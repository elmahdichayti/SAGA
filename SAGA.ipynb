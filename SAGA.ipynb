{
 "cells": [
  {
   "cell_type": "markdown",
   "metadata": {},
   "source": [
    "## SGD, SAG and SAGA algorithms"
   ]
  },
  {
   "cell_type": "markdown",
   "metadata": {},
   "source": [
    "Author : El Mahdi CHAYTI"
   ]
  },
  {
   "cell_type": "code",
   "execution_count": 1,
   "metadata": {},
   "outputs": [],
   "source": [
    "%matplotlib inline"
   ]
  },
  {
   "cell_type": "code",
   "execution_count": 5,
   "metadata": {},
   "outputs": [],
   "source": [
    "import numpy as np\n",
    "from scipy.linalg import norm\n",
    "import matplotlib.pyplot as plt\n",
    "from scipy.optimize import fmin_l_bfgs_b\n",
    "from numba import njit"
   ]
  },
  {
   "cell_type": "markdown",
   "metadata": {},
   "source": [
    "<a id='loss'></a>\n",
    "## 1. Loss functions, gradients and step-sizes"
   ]
  },
  {
   "cell_type": "markdown",
   "metadata": {},
   "source": [
    "We introduce classes that encompass all these information."
   ]
  },
  {
   "cell_type": "code",
   "execution_count": 24,
   "metadata": {},
   "outputs": [],
   "source": [
    "class LinReg(object):\n",
    "    \"\"\"A class for the least-squares regression with\n",
    "    Ridge penalization\"\"\"\n",
    "\n",
    "    def __init__(self, X, y, lbda):\n",
    "        self.X = X\n",
    "        self.y = y\n",
    "        self.n, self.d = X.shape\n",
    "        self.lbda = lbda\n",
    "    \n",
    "    def grad(self, w):\n",
    "        return self.X.T @ (self.X @ w - self.y) / self.n + self.lbda * w\n",
    "    \n",
    "    def f(self, w):\n",
    "        return norm(self.X.dot(w) - self.y) ** 2 / (2. * self.n) + self.lbda * norm(w) ** 2 / 2.\n",
    "\n",
    "    def f_i(self, i, w):\n",
    "        return norm(self.X[i].dot(w) - self.y[i]) ** 2 / (2.) + self.lbda * norm(w) ** 2 / 2.\n",
    "    \n",
    "    def grad_i(self, i, w):\n",
    "        return self.X[i] * (self.X[i] @ w - self.y[i]) + self.lbda * w\n",
    "\n",
    "    def lipschitz_constant(self):\n",
    "        \"\"\"Return the Lipschitz constant of the gradient\"\"\"\n",
    "        L = norm(self.X, ord=2) ** 2 / self.n + self.lbda\n",
    "        return L"
   ]
  },
  {
   "cell_type": "code",
   "execution_count": 25,
   "metadata": {},
   "outputs": [],
   "source": [
    "class LogReg(object):\n",
    "    \"\"\"A class for the logistic regression with L2 penalization\"\"\"\n",
    "\n",
    "    def __init__(self, X, y, lbda):\n",
    "        self.X = X\n",
    "        self.y = y\n",
    "        self.n, self.d = X.shape\n",
    "        self.lbda = lbda\n",
    "    \n",
    "    def grad(self, w):\n",
    "        bAx = self.y * np.dot(self.X, w)\n",
    "        return  -self.X.T @ (self.y * (1 + np.exp(bAx))**(-1) ) / self.X.shape[0] + self.lbda * w\n",
    "\n",
    "    def f(self, w):\n",
    "        bAx = self.y * np.dot(self.X, w)\n",
    "        return np.mean(np.log(1. + np.exp(- bAx))) + self.lbda * norm(w) ** 2 / 2.\n",
    "    \n",
    "    def f_i(self,i, w):\n",
    "        bAx_i = self.y[i] * np.dot(self.X[i], w)\n",
    "        return np.log(1. + np.exp(- bAx_i)) + self.lbda * norm(w) ** 2 / 2.\n",
    "    \n",
    "    def grad_i(self, i, w):\n",
    "        a_i = self.X[i]\n",
    "        b_i = self.y[i]\n",
    "        return - a_i * b_i / (1. + np.exp(b_i * np.dot(a_i, w))) + self.lbda * w\n",
    "\n",
    "\n",
    "    def lipschitz_constant(self):\n",
    "        \"\"\"Return the Lipschitz constant of the gradient\"\"\"\n",
    "        L = norm(self.X, ord=2) ** 2  / (4. * self.n) + self.lbda\n",
    "        return L"
   ]
  },
  {
   "cell_type": "markdown",
   "metadata": {},
   "source": [
    "<a id='data'></a>\n",
    "## 2. Dataset"
   ]
  },
  {
   "cell_type": "code",
   "execution_count": 26,
   "metadata": {},
   "outputs": [],
   "source": [
    "import scipy.io as sio\n",
    "mat_contents = sio.loadmat(\"data_orsay_2017.mat\")\n",
    "\n",
    "X = mat_contents[\"Xtrain\"]\n",
    "y = mat_contents[\"ytrain\"].flatten()\n",
    "\n",
    "Xtest = mat_contents[\"Xtest\"]\n",
    "ytest = mat_contents[\"ytest\"].flatten()\n",
    "\n",
    "n,d = X.shape"
   ]
  },
  {
   "cell_type": "markdown",
   "metadata": {},
   "source": [
    "<a id='constant'></a> \n",
    "\n",
    "## 3. Implementations\n"
   ]
  },
  {
   "cell_type": "markdown",
   "metadata": {},
   "source": [
    "### 3.1 SGD "
   ]
  },
  {
   "cell_type": "code",
   "execution_count": 15,
   "metadata": {},
   "outputs": [],
   "source": [
    "def sgd(w0, log_lin,steps, lbda = 0, n_iter=100, cycling = False,\n",
    "        averaging_on=False, start_late_averaging = 0):\n",
    "    \"\"\"Stochastic gradient descent algorithm\n",
    "    \"\"\"\n",
    "    \n",
    "    model = log_lin(X, y, lbda)\n",
    "    test_model = log_lin(Xtest,ytest, lbda)\n",
    "    w_min, obj_min, _ = fmin_l_bfgs_b(model.f, \n",
    "                                      w_init, \n",
    "                                      model.grad, \n",
    "                                      args=(), \n",
    "                                      pgtol=1e-30, \n",
    "                                      factr =1e-30)\n",
    "    \n",
    "    w = w0.copy()\n",
    "    w_new = w0.copy()\n",
    "    \n",
    "    n, d = X.shape\n",
    "    if not cycling :\n",
    "        indices = np.random.randint(0, n, n_iter)\n",
    "    # average x\n",
    "    w_average = w0.copy()\n",
    "    # objective history\n",
    "    objectives = []\n",
    "    train = []\n",
    "    # Current objective\n",
    "    objectives.append(test_model.f(w))\n",
    "    train.append(model.f(w))\n",
    "    for k in range(n_iter):\n",
    "        if cycling :\n",
    "            i = k % n\n",
    "        else :\n",
    "            i = indices[k]\n",
    "            \n",
    "        w -= steps[k] * model.grad_i(i, w)\n",
    "        w = w_new\n",
    "        ####################################\n",
    "        # Compute the average iterate\n",
    "        if k >= start_late_averaging :\n",
    "               w_average  = (1 - 1 / (k - start_late_averaging + 1) ) * w_average \\\n",
    "                            + 1 / (k - start_late_averaging + 1) * w\n",
    "        ####################################\n",
    "        if averaging_on and k >= start_late_averaging:\n",
    "            w_test = w_average.copy()\n",
    "        else:\n",
    "            w_test = w.copy()\n",
    "         \n",
    "        if k % 100 == 0 :\n",
    "            objectives.append(test_model.f(w))\n",
    "            train.append(model.f(w))\n",
    "        \n",
    "    if averaging_on:\n",
    "        w_output = w_average.copy()\n",
    "    else:\n",
    "        w_output = w.copy()    \n",
    "    return w_output, np.array(objectives)- obj_min, np.array(train)-obj_min"
   ]
  },
  {
   "cell_type": "markdown",
   "metadata": {},
   "source": [
    "### 3.2 SAG"
   ]
  },
  {
   "cell_type": "code",
   "execution_count": 8,
   "metadata": {},
   "outputs": [],
   "source": [
    "def sag(w_init, log_lin, step=1., lbda = 0, n_iter=100, store_every=100):\n",
    "    \"\"\"Stochastic average gradient algorithm.\"\"\"\n",
    "    w = w_init.copy()\n",
    "    model = log_lin(X, y, lbda)\n",
    "    test_model = log_lin(Xtest,ytest, lbda)\n",
    "    w_min, obj_min, _ = fmin_l_bfgs_b(model.f, \n",
    "                                      w_init, \n",
    "                                      model.grad, \n",
    "                                      args=(), \n",
    "                                      pgtol=1e-30, \n",
    "                                      factr =1e-30)\n",
    "    # Old gradients\n",
    "    gradient_memory = np.zeros((n, d))\n",
    "    averaged_gradient = np.zeros(d)\n",
    "    objectives = []\n",
    "    train = []\n",
    "    # Current objective\n",
    "    objectives.append(test_model.f(w))\n",
    "    train.append(model.f(w))\n",
    "    for idx in range(n_iter):\n",
    "        i = indices[idx]\n",
    "        \n",
    "        averaged_gradient -= gradient_memory[i]/n\n",
    "        gradient_memory[i] = model.grad_i(i, w)\n",
    "        averaged_gradient += gradient_memory[i]/n\n",
    "        w -= step*averaged_gradient\n",
    "        \n",
    "        # Update metrics after each iteration.\n",
    "        if idx % store_every == 0:\n",
    "            objectives.append(test_model.f(w))\n",
    "            train.append(model.f(w))\n",
    "    return w, np.array(objectives)-obj_min, np.array(train)-obj_min"
   ]
  },
  {
   "cell_type": "markdown",
   "metadata": {},
   "source": [
    "### 3.3 SAGA"
   ]
  },
  {
   "cell_type": "code",
   "execution_count": 9,
   "metadata": {},
   "outputs": [],
   "source": [
    "def saga(w_init, log_lin, step=1., lbda = 0, n_iter=100, store_every=100):\n",
    "    \"\"\"SAGA algorithm.\"\"\"\n",
    "    w = w_init.copy()\n",
    "    model = log_lin(X, y, lbda)\n",
    "    test_model = log_lin(Xtest,ytest, lbda)\n",
    "    w_min, obj_min, _ = fmin_l_bfgs_b(model.f, \n",
    "                                      w_init, \n",
    "                                      model.grad, \n",
    "                                      args=(), \n",
    "                                      pgtol=1e-30, \n",
    "                                      factr =1e-30)\n",
    "    # Old gradients\n",
    "    gradient_memory = np.zeros((n, d))\n",
    "    averaged_gradient = np.zeros(d)\n",
    "    objectives = []\n",
    "    train = []\n",
    "    # Current objective\n",
    "    objectives.append(test_model.f(w))\n",
    "    train.append(model.f(w))\n",
    "    for idx in range(n_iter):\n",
    "        i = indices[idx]\n",
    "        \n",
    "        new_gradi = model.grad_i(i, w)\n",
    "        \n",
    "        w -= step*(new_gradi - gradient_memory[i] + averaged_gradient)\n",
    "        \n",
    "        averaged_gradient += (new_gradi - gradient_memory[i])/n\n",
    "        gradient_memory[i] = new_gradi\n",
    "        # Update metrics after each iteration.\n",
    "        if idx % store_every == 0:\n",
    "            objectives.append(test_model.f(w))\n",
    "            train.append(model.f(w))\n",
    "    return w, np.array(objectives)-obj_min, np.array(train)-obj_min"
   ]
  },
  {
   "cell_type": "code",
   "execution_count": 10,
   "metadata": {},
   "outputs": [],
   "source": [
    "##Setup number of iterations\n",
    "datapasses = 50  # number of sweeps through all the data. This means that there will datapasses*n stochastic gradient updates\n",
    "niters = int(datapasses * n)\n",
    "indices = np.random.randint(0, n, niters)"
   ]
  },
  {
   "cell_type": "markdown",
   "metadata": {},
   "source": [
    "### Comparison"
   ]
  },
  {
   "cell_type": "code",
   "execution_count": 13,
   "metadata": {},
   "outputs": [],
   "source": [
    "linlog = LinReg #LogReg  #choice of the model : linear regression or logistic regression\n",
    "mu = 1e-5 #1e-1 # choice of the regularization parameter\n",
    "w_init = np.zeros(d)"
   ]
  },
  {
   "cell_type": "code",
   "execution_count": 21,
   "metadata": {},
   "outputs": [],
   "source": [
    "C = 1e-1\n",
    "steps =list(map(lambda t : C / np.sqrt(t+1), np.arange(niters)) )\n",
    "w_sgd, obj_sgd, train_sgd = sgd(w_init, linlog, steps, mu, niters)"
   ]
  },
  {
   "cell_type": "code",
   "execution_count": 17,
   "metadata": {},
   "outputs": [],
   "source": [
    "step = 1e-3\n",
    "w_sag, obj_sag, train_sag = sag(w_init, linlog, step, mu, niters)"
   ]
  },
  {
   "cell_type": "code",
   "execution_count": 18,
   "metadata": {},
   "outputs": [],
   "source": [
    "step = 1e-3\n",
    "w_saga, obj_saga, train_saga = saga(w_init, linlog, step, mu, niters)"
   ]
  },
  {
   "cell_type": "code",
   "execution_count": 22,
   "metadata": {},
   "outputs": [
    {
     "data": {
      "image/png": "[encoded data removed]",
      "text/plain": [
       "<Figure size 504x360 with 1 Axes>"
      ]
     },
     "metadata": {},
     "output_type": "display_data"
    }
   ],
   "source": [
    "# training loss on a logarithmic scale\n",
    "plt.figure(figsize=(7, 5))\n",
    "plt.semilogy(train_sgd , label=\"sgd\", lw=2)\n",
    "plt.semilogy(train_saga , label=\"saga\", lw=2)\n",
    "plt.semilogy(train_sag , label=\"sag\", lw=2)\n",
    "plt.title(\"Train Loss\", fontsize=16)\n",
    "plt.xlabel(\"#iterations\", fontsize=14)\n",
    "plt.ylabel(\"loss\", fontsize=14)\n",
    "plt.legend()\n",
    "plt.savefig(\"train\")"
   ]
  },
  {
   "cell_type": "code",
   "execution_count": 23,
   "metadata": {},
   "outputs": [
    {
     "data": {
      "image/png": "[encoded data removed]",
      "text/plain": [
       "<Figure size 504x360 with 1 Axes>"
      ]
     },
     "metadata": {},
     "output_type": "display_data"
    }
   ],
   "source": [
    "# Error of objective on a logarithmic scale\n",
    "plt.figure(figsize=(7, 5))\n",
    "plt.semilogy(obj_sgd , label=\"sgd\", lw=2)\n",
    "plt.semilogy(obj_saga , label=\"saga\", lw=2)\n",
    "plt.semilogy(obj_sag , label=\"sag\", lw=2)\n",
    "plt.title(\"test plot\", fontsize=16)\n",
    "plt.xlabel(\"#iterations\", fontsize=14)\n",
    "plt.ylabel(\"loss\", fontsize=14)\n",
    "plt.legend()\n",
    "plt.savefig(\"test\")"
   ]
  }
 ],
 "metadata": {
  "anaconda-cloud": {},
  "kernelspec": {
   "display_name": "Python 3",
   "language": "python",
   "name": "python3"
  },
  "language_info": {
   "codemirror_mode": {
    "name": "ipython",
    "version": 3
   },
   "file_extension": ".py",
   "mimetype": "text/x-python",
   "name": "python",
   "nbconvert_exporter": "python",
   "pygments_lexer": "ipython3",
   "version": "3.6.6"
  }
 },
 "nbformat": 4,
 "nbformat_minor": 2
}
